{
 "cells": [
  {
   "cell_type": "code",
   "execution_count": 9,
   "id": "964024ba",
   "metadata": {},
   "outputs": [
    {
     "name": "stdout",
     "output_type": "stream",
     "text": [
      "2.10.0\n"
     ]
    }
   ],
   "source": [
    "import pandas as pd\n",
    "import numpy as np\n",
    "import tensorflow as tf\n",
    "import os\n",
    "import cv2\n",
    "from glob import glob\n",
    "import seaborn as sns\n",
    "import matplotlib.pyplot as plt\n",
    "import random\n",
    "from pathlib import Path\n",
    "\n",
    "from keras.preprocessing import image\n",
    "from tensorflow.keras.preprocessing.image import ImageDataGenerator\n",
    "from tensorflow.keras.optimizers import RMSprop,Adam\n",
    "from sklearn.model_selection import train_test_split\n",
    "import tensorflow as tf\n",
    "print(tf.__version__)"
   ]
  },
  {
   "cell_type": "code",
   "execution_count": 15,
   "id": "fd8389f4",
   "metadata": {},
   "outputs": [],
   "source": [
    "ROOT_PATH = Path(\"../Dataset/rsna-pneumonia-detection-challenge/stage_2_train_images/\")\n",
    "SAVE_PATH = Path(\"../Dataset/Processed/\")"
   ]
  },
  {
   "cell_type": "code",
   "execution_count": 16,
   "id": "145cc8ed",
   "metadata": {},
   "outputs": [],
   "source": [
    "BASE_DIR=('../Dataset/')\n",
    "train_dir=os.path.join(BASE_DIR,'*')"
   ]
  },
  {
   "cell_type": "code",
   "execution_count": 20,
   "id": "e1d552a2",
   "metadata": {},
   "outputs": [],
   "source": [
    "training_images = tf.io.gfile.glob('../Dataset/rsna-pneumonia-detection-challenge/stage_2_train_images/*')"
   ]
  },
  {
   "cell_type": "code",
   "execution_count": 21,
   "id": "2909e7da",
   "metadata": {},
   "outputs": [],
   "source": [
    "total_files = training_images"
   ]
  },
  {
   "cell_type": "code",
   "execution_count": 22,
   "id": "cc9c9c7d",
   "metadata": {},
   "outputs": [
    {
     "name": "stdout",
     "output_type": "stream",
     "text": [
      "Total number of images : training_images = 26684\n",
      "\n"
     ]
    }
   ],
   "source": [
    "print(f'Total number of images : training_images = {len(total_files)}\\n')"
   ]
  },
  {
   "cell_type": "code",
   "execution_count": 23,
   "id": "eb4ea417",
   "metadata": {},
   "outputs": [],
   "source": [
    "labels = pd.read_csv(\"../Dataset/rsna-pneumonia-detection-challenge/stage_2_train_labels.csv\")"
   ]
  },
  {
   "cell_type": "code",
   "execution_count": null,
   "id": "9e3fe09f",
   "metadata": {},
   "outputs": [],
   "source": []
  }
 ],
 "metadata": {
  "kernelspec": {
   "display_name": "Python 3 (ipykernel)",
   "language": "python",
   "name": "python3"
  },
  "language_info": {
   "codemirror_mode": {
    "name": "ipython",
    "version": 3
   },
   "file_extension": ".py",
   "mimetype": "text/x-python",
   "name": "python",
   "nbconvert_exporter": "python",
   "pygments_lexer": "ipython3",
   "version": "3.8.13"
  }
 },
 "nbformat": 4,
 "nbformat_minor": 5
}
